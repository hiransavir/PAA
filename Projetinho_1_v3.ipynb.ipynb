{
  "nbformat": 4,
  "nbformat_minor": 0,
  "metadata": {
    "colab": {
      "provenance": [],
      "collapsed_sections": [],
      "authorship_tag": "ABX9TyP2OY6/QGTtzg+pv6Tzb3MF",
      "include_colab_link": true
    },
    "kernelspec": {
      "name": "python3",
      "display_name": "Python 3"
    },
    "language_info": {
      "name": "python"
    }
  },
  "cells": [
    {
      "cell_type": "markdown",
      "metadata": {
        "id": "view-in-github",
        "colab_type": "text"
      },
      "source": [
        "<a href=\"https://colab.research.google.com/github/hiransavir/PAA/blob/main/C%C3%B3pia_de_C%C3%B3pia_de_Untitled2.ipynb\" target=\"_parent\"><img src=\"https://colab.research.google.com/assets/colab-badge.svg\" alt=\"Open In Colab\"/></a>"
      ]
    },
    {
      "cell_type": "markdown",
      "source": [
        "1-Importando bibliotecas"
      ],
      "metadata": {
        "id": "VI6AV_xcjflq"
      }
    },
    {
      "cell_type": "code",
      "execution_count": 2,
      "metadata": {
        "id": "YUsu5aiOe_4U"
      },
      "outputs": [],
      "source": [
        "\n",
        "import numpy as np\n",
        "import random\n",
        "import time\n"
      ]
    },
    {
      "cell_type": "code",
      "source": [
        "# Algoritomo insert sort - ok\n",
        "\n",
        "def insert_sort(array):\n",
        "    for i in range(1, len(array)):\n",
        "        item = array[i]\n",
        "        j = i - 1\n",
        "        while j >= 0 and array[j] > item:\n",
        "            array[j + 1] = array[j]\n",
        "            j -= 1\n",
        "        array[j + 1] = item\n",
        "    return array"
      ],
      "metadata": {
        "id": "ZDap424ysCDi"
      },
      "execution_count": 3,
      "outputs": []
    },
    {
      "cell_type": "code",
      "source": [
        "def roda2(vTamanhoVetor):\n",
        "\n",
        "  vVetor = np.arange(int(vTamanhoVetor))\n",
        "  for i in range(int(vTamanhoVetor)):\n",
        "    vVetor[i]=random.randint(1,99)\n",
        "\n",
        "  print(vVetor)\n",
        "\n",
        "  insert_sort(vVetor)\n",
        "\n",
        "  print(vVetor)\n"
      ],
      "metadata": {
        "id": "SChuPD4gfhnT"
      },
      "execution_count": 4,
      "outputs": []
    },
    {
      "cell_type": "code",
      "source": [
        "def roda1(vTamanhoVetor):\n",
        "\n",
        "  #Criando o vetor com entradas eleatórias de tamanho vTamanhoVetor\n",
        "  vVetor_np = np.arange(int(vTamanhoVetor))\n",
        "  vVetor_Novo_np = np.arange(int(vTamanhoVetor))\n",
        "  \n",
        "  for i in range(int(vTamanhoVetor)):\n",
        "    vValor = random.randint(1,99)\n",
        "    vVetor_np[i]=vValor\n",
        "\n",
        "  print('\\nVetor Gerado:')\n",
        "  print(vVetor_np)  \n",
        "\n",
        "  #Dividindo o vetor em 10 em 10\n",
        "  vMatriz = np.array_split(vVetor_np, 10)\n",
        "\n",
        "  print('\\nSubvetores gerados em  10 em 10:')\n",
        "  print(vMatriz) \n",
        "  \n",
        "  #--------------------------------------------------------------\n",
        "  #print(\"SubVetores desordenados:\")\n",
        "  #print(vMatriz)\n",
        "  for i in range(10):\n",
        "    insert_sort(vMatriz[i])\n",
        "\n",
        "  print(\"\\nSubVetores Ordenados com insert sort:\")\n",
        "  print(vMatriz)\n",
        "  #---------------------------------------------------------------\n",
        "  a_novo = []\n",
        "\n",
        "  a_array = vMatriz\n",
        "  #print(a_array)\n",
        "\n",
        "  for i in range(0, 2):\n",
        "\n",
        "    while len(a_array) > 1:\n",
        "      #print('----')\n",
        "      #print(a_array)\n",
        "      #print(a_array[0])\n",
        "      #print(a_array[1])\n",
        "      a_concatenado = np.concatenate((a_array[0], a_array[1]))\n",
        "      a_concatenado.sort(kind='mergesort')\n",
        "      a_novo.append(a_concatenado)\n",
        "      #print(a_novo)\n",
        "      del a_array[0:2] \n",
        "      #print(a_array)\n",
        "\n",
        "    if len(a_array) != 1: \n",
        "      a_array = a_novo\n",
        "      a_novo = []\n",
        "    else:\n",
        "      #print('Finalizando...')\n",
        "      #print(a_novo[0])\n",
        "      #print(a_novo[1])    \n",
        "      a_concatenado = np.concatenate((a_novo[0], a_novo[1]))\n",
        "      a_concatenado.sort(kind='mergesort')    \n",
        "      a_novo = []\n",
        "      a_novo.append(a_concatenado)\n",
        "      #print(a_novo)\n",
        "      #print(a_array)\n",
        "      a_concatenado = np.concatenate((a_novo[0], a_array[0]))\n",
        "      a_concatenado.sort(kind='mergesort')    \n",
        "      a_novo = []\n",
        "      a_novo.append(a_concatenado)\n",
        "      #print(a_novo)\n",
        "\n",
        "  #print('\\n')\n",
        "  print(\"\\nSubVetores Ordenados com merge sort:\")\n",
        "  print(a_novo[0])\n"
      ],
      "metadata": {
        "id": "rAfx5UXo68jY"
      },
      "execution_count": 5,
      "outputs": []
    },
    {
      "cell_type": "code",
      "source": [
        "\n",
        "# Inicio - ok\n",
        "#print('Entre com o tamanho do vector:')\n",
        "\n",
        "n = 3\n",
        "\n",
        "aTempo1 = []\n",
        "aTempo2 = []\n",
        "aTamVetor = []\n",
        "\n",
        "for i in range(n):\n",
        "  #print('\\n------'+str(i))\n",
        "  #vTamanhoVetor = random.randint(10,100)\n",
        "  #aTamVetor.append(vTamanhoVetor)\n",
        "  \n",
        "  #inicio1 = time.time()\n",
        "  #roda1(vTamanhoVetor)\n",
        "  #fim1 = time.time()\n",
        "  #aTempo1.append(fim1)\n",
        "\n",
        "  print('\\n------'+str(i))\n",
        "  vTamanhoVetor = random.randint(10,100)\n",
        "  aTamVetor.append(vTamanhoVetor)  \n",
        "\n",
        "  inicio2 = time.time()\n",
        "  roda2(vTamanhoVetor)\n",
        "  fim2 = time.time()\n",
        "  aTempo2.append(fim2)  \n",
        "\n",
        "print('\\n')\n",
        "for i in range(n):\n",
        "  print(str(aTamVetor[i]))\n",
        "  #print(str(aTempo1[i]))\n",
        "  print(str(aTempo2[i]))\n",
        "\n",
        "\n",
        "#avgResult = np.average(aTempos.reshape(-1, n), axis=1)\n",
        "#print(str(avgResult))"
      ],
      "metadata": {
        "colab": {
          "base_uri": "https://localhost:8080/"
        },
        "id": "ztu3YZtg7Hx3",
        "outputId": "28124f12-6248-467f-8ad9-3db6b7a6d3c8"
      },
      "execution_count": 10,
      "outputs": [
        {
          "output_type": "stream",
          "name": "stdout",
          "text": [
            "\n",
            "------0\n",
            "[11 92 83 43 14 85 46 17 31 45 10 77 50 86 36 57 90 55 62 78 53 24 14 17\n",
            " 19  3 38 41 71 61 84 11 74 96 11 57 20  4 26 67 80 71 55 95 71 26 11]\n",
            "[ 3  4 10 11 11 11 11 14 14 17 17 19 20 24 26 26 31 36 38 41 43 45 46 50\n",
            " 53 55 55 57 57 61 62 67 71 71 71 74 77 78 80 83 84 85 86 90 92 95 96]\n",
            "\n",
            "------1\n",
            "[55 77 15 97 86  3 92 38 36 91  5 85 83  1 90  9 15 55 85 63 40 64 75 36]\n",
            "[ 1  3  5  9 15 15 36 36 38 40 55 55 63 64 75 77 83 85 85 86 90 91 92 97]\n",
            "\n",
            "------2\n",
            "[76 88 94 13 57  6 29 22 13 76 19 63 29 86 19 82 41  6 77 47 51  7 96 52\n",
            " 44 75 48  9 64 14 78  1 56 92 13 91 26 90  8 42  6  2 19 41 64 95 27 45\n",
            " 85 82 29 56 85 58 34 49 64 88 26 80 66 82 46  5 37 72 47 99]\n",
            "[ 1  2  5  6  6  6  7  8  9 13 13 13 14 19 19 19 22 26 26 27 29 29 29 34\n",
            " 37 41 41 42 44 45 46 47 47 48 49 51 52 56 56 57 58 63 64 64 64 66 72 75\n",
            " 76 76 77 78 80 82 82 82 85 85 86 88 88 90 91 92 94 95 96 99]\n",
            "\n",
            "\n",
            "47\n",
            "1665952988.676824\n",
            "24\n",
            "1665952988.677375\n",
            "68\n",
            "1665952988.6784332\n"
          ]
        }
      ]
    },
    {
      "cell_type": "code",
      "source": [
        "import matplotlib.pyplot as plt\n",
        "# data to be plotted\n",
        "\n",
        "for i in range(len(aTamVetor)):\n",
        "  print(aTamVetor[i])\n",
        "  print(aTempo1[i])\n",
        "\n",
        "#print(aTamVetor)\n",
        "#print(aTempo)\n",
        "print('\\n')\n",
        " \n",
        "# plotting\n",
        "plt.title(\"Line graph\")\n",
        "plt.xlabel(\"tamanho do vetor\")\n",
        "plt.ylabel(\"tempo\")\n",
        "\n",
        "#x1 = aTamVetor\n",
        "#y1 = aTempo1\n",
        "\n",
        "x1 = aTamVetor \n",
        "y1 = aTempo1 \n",
        "\n",
        "#x2 = aTamVetor \n",
        "#y2 = [10,5,4] \n",
        "\n",
        "plt.plot(x1, y1, label = \"line 1\") \n",
        "#plt.plot(x2, y2, label = \"line 2\") \n",
        "\n",
        "plt.legend() \n",
        "plt.show()\n",
        "\n"
      ],
      "metadata": {
        "id": "4sb9DD-oXXfz",
        "colab": {
          "base_uri": "https://localhost:8080/",
          "height": 442
        },
        "outputId": "302571b0-c9c9-454b-906b-1ea593be1948"
      },
      "execution_count": null,
      "outputs": [
        {
          "output_type": "stream",
          "name": "stdout",
          "text": [
            "40\n",
            "1665950704.0713172\n",
            "89\n",
            "1665950704.0774407\n",
            "15\n",
            "1665950704.0904603\n",
            "\n",
            "\n"
          ]
        },
        {
          "output_type": "display_data",
          "data": {
            "text/plain": [
              "<Figure size 432x288 with 1 Axes>"
            ],
            "image/png": "[encoded data removed]"
          },
          "metadata": {
            "needs_background": "light"
          }
        }
      ]
    }
  ]
}

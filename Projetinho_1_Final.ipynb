{
  "nbformat": 4,
  "nbformat_minor": 0,
  "metadata": {
    "colab": {
      "provenance": [],
      "collapsed_sections": [],
      "authorship_tag": "ABX9TyP7xgpJZIbaPh/kpVwWWFPr",
      "include_colab_link": true
    },
    "kernelspec": {
      "name": "python3",
      "display_name": "Python 3"
    },
    "language_info": {
      "name": "python"
    }
  },
  "cells": [
    {
      "cell_type": "markdown",
      "metadata": {
        "id": "view-in-github",
        "colab_type": "text"
      },
      "source": [
        "<a href=\"https://colab.research.google.com/github/hiransavir/PAA/blob/main/Projetinho_1_Final.ipynb\" target=\"_parent\"><img src=\"https://colab.research.google.com/assets/colab-badge.svg\" alt=\"Open In Colab\"/></a>"
      ]
    },
    {
      "cell_type": "markdown",
      "source": [
        "1-Importando bibliotecas"
      ],
      "metadata": {
        "id": "VI6AV_xcjflq"
      }
    },
    {
      "cell_type": "code",
      "execution_count": null,
      "metadata": {
        "id": "YUsu5aiOe_4U"
      },
      "outputs": [],
      "source": [
        "\n",
        "import numpy as np\n",
        "import random\n",
        "import time\n"
      ]
    },
    {
      "cell_type": "code",
      "source": [
        "# Algoritomo insert sort - ok\n",
        "\n",
        "def insert_sort(array):\n",
        "    for i in range(1, len(array)):\n",
        "        item = array[i]\n",
        "        j = i - 1\n",
        "        while j >= 0 and array[j] > item:\n",
        "            array[j + 1] = array[j]\n",
        "            j -= 1\n",
        "        array[j + 1] = item\n",
        "    return array"
      ],
      "metadata": {
        "id": "ZDap424ysCDi"
      },
      "execution_count": null,
      "outputs": []
    },
    {
      "cell_type": "code",
      "source": [
        "def roda2(vTamanhoVetor):\n",
        "\n",
        "  vVetor = np.arange(int(vTamanhoVetor))\n",
        "  for i in range(int(vTamanhoVetor)):\n",
        "    vVetor[i]=random.randint(1,99)\n",
        "\n",
        "  print(vVetor)\n",
        "\n",
        "  insert_sort(vVetor)\n",
        "\n",
        "  print(vVetor)\n"
      ],
      "metadata": {
        "id": "SChuPD4gfhnT"
      },
      "execution_count": null,
      "outputs": []
    },
    {
      "cell_type": "code",
      "source": [
        "def roda1(vTamanhoVetor):\n",
        "\n",
        "  #Criando o vetor com entradas eleatórias de tamanho vTamanhoVetor\n",
        "  vVetor_np = np.arange(int(vTamanhoVetor))\n",
        "  vVetor_Novo_np = np.arange(int(vTamanhoVetor))\n",
        "  \n",
        "  for i in range(int(vTamanhoVetor)):\n",
        "    vValor = random.randint(1,99)\n",
        "    vVetor_np[i]=vValor\n",
        "\n",
        "  #print('\\nVetor Gerado:')\n",
        "  #print(vVetor_np)  \n",
        "\n",
        "  #Dividindo o vetor em 10 em 10\n",
        "  vMatriz = np.array_split(vVetor_np, 10)\n",
        "\n",
        "  #print('\\nSubvetores gerados em  10 em 10:')\n",
        "  #print(vMatriz) \n",
        "  \n",
        "  #--------------------------------------------------------------\n",
        "  #print(\"SubVetores desordenados:\")\n",
        "  #print(vMatriz)\n",
        "  for i in range(10):\n",
        "    insert_sort(vMatriz[i])\n",
        "\n",
        "  #print(\"\\nSubVetores Ordenados com insert sort:\")\n",
        "  #print(vMatriz)\n",
        "  #---------------------------------------------------------------\n",
        "  a_novo = []\n",
        "\n",
        "  a_array = vMatriz\n",
        "  print(a_array)\n",
        "\n",
        "  for i in range(0, 2):\n",
        "\n",
        "    while len(a_array) > 1:\n",
        "      #print('----')\n",
        "      #print(a_array)\n",
        "      #print(a_array[0])\n",
        "      #print(a_array[1])\n",
        "      a_concatenado = np.concatenate((a_array[0], a_array[1]))\n",
        "      a_concatenado.sort(kind='mergesort')\n",
        "      a_novo.append(a_concatenado)\n",
        "      #print(a_novo)\n",
        "      del a_array[0:2] \n",
        "      #print(a_array)\n",
        "\n",
        "    if len(a_array) != 1: \n",
        "      a_array = a_novo\n",
        "      a_novo = []\n",
        "    else:\n",
        "      #print('Finalizando...')\n",
        "      #print(a_novo[0])\n",
        "      #print(a_novo[1])    \n",
        "      a_concatenado = np.concatenate((a_novo[0], a_novo[1]))\n",
        "      a_concatenado.sort(kind='mergesort')    \n",
        "      a_novo = []\n",
        "      a_novo.append(a_concatenado)\n",
        "      #print(a_novo)\n",
        "      #print(a_array)\n",
        "      a_concatenado = np.concatenate((a_novo[0], a_array[0]))\n",
        "      a_concatenado.sort(kind='mergesort')    \n",
        "      a_novo = []\n",
        "      a_novo.append(a_concatenado)\n",
        "      #print(a_novo)\n",
        "\n",
        "  #print('\\n')\n",
        "  #print(\"\\nSubVetores Ordenados com merge sort:\")\n",
        "  print(a_novo[0])\n"
      ],
      "metadata": {
        "id": "rAfx5UXo68jY"
      },
      "execution_count": null,
      "outputs": []
    },
    {
      "cell_type": "code",
      "source": [
        "\n",
        "#Inicio - ok\n",
        "print('Entre com o quantidade de combinações:')\n",
        "m = input()\n",
        "n = int(m)\n",
        "\n",
        "#n = 3\n",
        "\n",
        "aTempo1 = []\n",
        "aTempo2 = []\n",
        "aTamVetor = []\n",
        "vTamanhoVetor = 0\n",
        "\n",
        "for i in range(n):\n",
        "  vTamanhoVetor = random.randint(10,100)\n",
        "  aTamVetor.append(vTamanhoVetor)  \n",
        "\n",
        "print(aTamVetor)\n",
        "aTamVetor = insert_sort(aTamVetor);\n",
        "print(aTamVetor)\n",
        "\n",
        "for i in range(n):\n",
        "  print('\\n------Combinacao '+str(i)+' de tamanho: ' + str(aTamVetor[i]))\n",
        "\n",
        "  inicio1 = time.time()\n",
        "  roda1(aTamVetor[i])\n",
        "  fim1 = time.time()\n",
        "  aTempo1.append(fim1)\n",
        "\n",
        "  print('\\n------ Inser Sort'+str(i))\n",
        "\n",
        "  inicio2 = time.time()\n",
        "  roda2(aTamVetor[i])\n",
        "  fim2 = time.time()\n",
        "  aTempo2.append(fim2)  \n",
        "\n",
        "#avgResult = np.average(aTempos.reshape(-1, n), axis=1)\n",
        "#print(str(avgResult))"
      ],
      "metadata": {
        "colab": {
          "base_uri": "https://localhost:8080/"
        },
        "id": "ztu3YZtg7Hx3",
        "outputId": "bffb9c36-07e8-4d37-eb38-ee0fc19c4e34"
      },
      "execution_count": null,
      "outputs": [
        {
          "output_type": "stream",
          "name": "stdout",
          "text": [
            "Entre com o quantidade de combinações:\n",
            "5\n",
            "[81, 35, 46, 24, 90]\n",
            "[24, 35, 46, 81, 90]\n",
            "\n",
            "------Combinacao 0 de tamanho: 24\n",
            "[array([16, 63, 72]), array([37, 65, 95]), array([17, 60, 88]), array([47, 54, 78]), array([53, 99]), array([58, 96]), array([59, 99]), array([90, 93]), array([62, 73]), array([19, 48])]\n",
            "[16 17 19 37 47 48 53 54 58 59 60 62 63 65 72 73 78 88 90 93 95 96 99 99]\n",
            "\n",
            "------ Inser Sort0\n",
            "[12 93 69 51 52 65 44 22 48 30 93 40 49 45 85 79 27 19 69 18 36 43 70 54]\n",
            "[12 18 19 22 27 30 36 40 43 44 45 48 49 51 52 54 65 69 69 70 79 85 93 93]\n",
            "\n",
            "------Combinacao 1 de tamanho: 35\n",
            "[array([63, 70, 87, 99]), array([24, 25, 60, 64]), array([45, 54, 63, 80]), array([29, 29, 82, 84]), array([24, 32, 54, 85]), array([54, 79, 96]), array([50, 71, 82]), array([ 5, 25, 90]), array([21, 38, 84]), array([ 4, 52, 98])]\n",
            "[ 4  5 21 24 24 25 25 29 29 32 38 45 50 52 54 54 54 60 63 63 64 70 71 79\n",
            " 80 82 82 84 84 85 87 90 96 98 99]\n",
            "\n",
            "------ Inser Sort1\n",
            "[46 69 53 39  9 50 58 15 34 96 29 97 94 15 78 64 55 21 23 53 59 71 27  4\n",
            " 87 22 55 95  6 27 15 66 15 55 10]\n",
            "[ 4  6  9 10 15 15 15 15 21 22 23 27 27 29 34 39 46 50 53 53 55 55 55 58\n",
            " 59 64 66 69 71 78 87 94 95 96 97]\n",
            "\n",
            "------Combinacao 2 de tamanho: 46\n",
            "[array([ 6, 71, 83, 85, 91]), array([ 2, 24, 74, 89, 95]), array([39, 47, 59, 71, 93]), array([ 8, 37, 46, 66, 76]), array([ 6,  8, 13, 25, 56]), array([55, 69, 74, 85, 98]), array([ 5, 24, 55, 96]), array([29, 51, 73, 86]), array([38, 60, 84, 92]), array([15, 56, 61, 63])]\n",
            "[ 2  5  6  6  8  8 13 15 24 24 25 29 37 38 39 46 47 51 55 55 56 56 59 60\n",
            " 61 63 66 69 71 71 73 74 74 76 83 84 85 85 86 89 91 92 93 95 96 98]\n",
            "\n",
            "------ Inser Sort2\n",
            "[70 76 43 10 79 78 29  8 42 77 15 37 54 25 99  5 24 40  3 44 25 28 96 53\n",
            " 98 22 16 43 94 89 47 95 94 79 80 62 75 98 86 94  5 73 65 59  3 24]\n",
            "[ 3  3  5  5  8 10 15 16 22 24 24 25 25 28 29 37 40 42 43 43 44 47 53 54\n",
            " 59 62 65 70 73 75 76 77 78 79 79 80 86 89 94 94 94 95 96 98 98 99]\n",
            "\n",
            "------Combinacao 3 de tamanho: 81\n",
            "[array([21, 27, 27, 35, 37, 57, 63, 83, 89]), array([20, 45, 48, 68, 77, 89, 90, 98]), array([ 2, 41, 50, 53, 57, 65, 72, 96]), array([11, 15, 16, 27, 47, 48, 95, 97]), array([ 2, 12, 39, 46, 46, 47, 86, 90]), array([23, 34, 53, 53, 54, 57, 82, 93]), array([16, 18, 27, 53, 66, 88, 88, 96]), array([ 5, 24, 28, 46, 57, 63, 67, 94]), array([ 2, 28, 40, 52, 59, 87, 88, 99]), array([12, 21, 31, 34, 62, 64, 93, 96])]\n",
            "[ 2  2  2  5 11 12 12 15 16 16 18 20 21 21 23 24 27 27 27 27 28 28 31 34\n",
            " 34 35 37 39 40 41 45 46 46 46 47 47 48 48 50 52 53 53 53 53 54 57 57 57\n",
            " 57 59 62 63 63 64 65 66 67 68 72 77 82 83 86 87 88 88 88 89 89 90 90 93\n",
            " 93 94 95 96 96 96 97 98 99]\n",
            "\n",
            "------ Inser Sort3\n",
            "[98 44 48 70 97 15 10 51 71 25  7 20  1 80 77  8 64 49 13 46 60 33 79 69\n",
            " 81 18 84 97 75 84 39 71 27 39 94 46 66 38 81 50 65 12 26 10 74 50 52 85\n",
            " 67 71 77  6 80 86 38 36 65 94 12 81 86 80 88 54 21 40 40 46 92 29 12 47\n",
            " 65 77 52 15 96 56 76 87 70]\n",
            "[ 1  6  7  8 10 10 12 12 12 13 15 15 18 20 21 25 26 27 29 33 36 38 38 39\n",
            " 39 40 40 44 46 46 46 47 48 49 50 50 51 52 52 54 56 60 64 65 65 65 66 67\n",
            " 69 70 70 71 71 71 74 75 76 77 77 77 79 80 80 80 81 81 81 84 84 85 86 86\n",
            " 87 88 92 94 94 96 97 97 98]\n",
            "\n",
            "------Combinacao 4 de tamanho: 90\n",
            "[array([13, 13, 16, 18, 28, 33, 59, 74, 88]), array([18, 45, 45, 45, 70, 71, 80, 81, 82]), array([10, 16, 34, 40, 52, 66, 76, 92, 98]), array([ 3,  9, 11, 20, 42, 45, 67, 70, 89]), array([ 9, 28, 34, 36, 47, 56, 59, 75, 88]), array([33, 35, 42, 58, 73, 75, 84, 87, 88]), array([ 6,  8,  9, 12, 31, 68, 74, 80, 99]), array([ 2, 16, 69, 70, 84, 90, 96, 97, 98]), array([13, 27, 29, 32, 45, 71, 76, 91, 93]), array([ 8, 12, 13, 15, 32, 45, 53, 71, 89])]\n",
            "[ 2  3  6  8  8  9  9  9 10 11 12 12 13 13 13 13 15 16 16 16 18 18 20 27\n",
            " 28 28 29 31 32 32 33 33 34 34 35 36 40 42 42 45 45 45 45 45 45 47 52 53\n",
            " 56 58 59 59 66 67 68 69 70 70 70 71 71 71 73 74 74 75 75 76 76 80 80 81\n",
            " 82 84 84 87 88 88 88 89 89 90 91 92 93 96 97 98 98 99]\n",
            "\n",
            "------ Inser Sort4\n",
            "[46 14 39 70 79 57 52 37 85  1 29 26  1 69 25 31 70 23 62 59 72 26 94 44\n",
            " 58 21 58 31 63 50 87 71 76 44 22 50 39  4 87 77 14 78  8 25 35 46 70 36\n",
            " 40 22 49 97 56  5 49 54 51 91 31 68 94  4 27 10 84 79 56 32  7 83 86 60\n",
            " 20 70 53 14 70 11 38 69 54 13 50 63 99 75 46 86 78 55]\n",
            "[ 1  1  4  4  5  7  8 10 11 13 14 14 14 20 21 22 22 23 25 25 26 26 27 29\n",
            " 31 31 31 32 35 36 37 38 39 39 40 44 44 46 46 46 49 49 50 50 50 51 52 53\n",
            " 54 54 55 56 56 57 58 58 59 60 62 63 63 68 69 69 70 70 70 70 70 71 72 75\n",
            " 76 77 78 78 79 79 83 84 85 86 86 87 87 91 94 94 97 99]\n"
          ]
        }
      ]
    },
    {
      "cell_type": "code",
      "source": [
        "import matplotlib.pyplot as plt\n",
        "\n",
        "for i in range(len(aTamVetor)):\n",
        "  print(aTamVetor[i])\n",
        "  print(aTempo1[i])\n",
        "  print(aTempo2[i])\n",
        "\n",
        "print('---')\n",
        "\n",
        "print('\\n')\n",
        " \n",
        "# plotting\n",
        "plt.title(\"Line graph\")\n",
        "plt.xlabel(\"tamanho do vetor\")\n",
        "plt.ylabel(\"tempo\")\n",
        "\n",
        "x1 = aTamVetor\n",
        "y1 = aTempo1\n",
        "\n",
        "x2 = aTamVetor \n",
        "y2 = aTempo2\n",
        "\n",
        "plt.plot(x1, y1, label = \"combinado\") \n",
        "plt.plot(x2, y2, label = \"insert sort\") \n",
        "\n",
        "plt.legend() \n",
        "plt.show()\n",
        "\n"
      ],
      "metadata": {
        "id": "4sb9DD-oXXfz",
        "colab": {
          "base_uri": "https://localhost:8080/",
          "height": 942
        },
        "outputId": "9dd0ddf4-afa5-4001-da2b-f33ce5fcc975"
      },
      "execution_count": 109,
      "outputs": [
        {
          "output_type": "stream",
          "name": "stdout",
          "text": [
            "24\n",
            "1666139952.5056007\n",
            "1666139952.5071821\n",
            "35\n",
            "1666139952.509307\n",
            "1666139952.5105624\n",
            "46\n",
            "1666139952.5142312\n",
            "1666139952.5155427\n",
            "81\n",
            "1666139952.5166454\n",
            "1666139952.517796\n",
            "90\n",
            "1666139952.518964\n",
            "1666139952.52032\n",
            "---\n",
            "\n",
            "\n"
          ]
        },
        {
          "output_type": "display_data",
          "data": {
            "text/plain": [
              "<Figure size 720x720 with 1 Axes>"
            ],
            "image/png": "[encoded data removed]"
          },
          "metadata": {
            "needs_background": "light"
          }
        }
      ]
    },
    {
      "cell_type": "code",
      "source": [],
      "metadata": {
        "id": "ylemk1SftFuj"
      },
      "execution_count": null,
      "outputs": []
    }
  ]
}